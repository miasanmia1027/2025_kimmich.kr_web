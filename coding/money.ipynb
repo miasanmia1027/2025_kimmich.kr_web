{
 "cells": [
  {
   "cell_type": "code",
   "execution_count": 4,
   "id": "56457008",
   "metadata": {},
   "outputs": [],
   "source": [
    "import sqlite3 \n",
    "connect = sqlite3.connect(\"D:/AHN/Codng/python/2025_kimmich.kr_web/coding/DB/money.db\")\n",
    "cursor = connect.cursor()"
   ]
  },
  {
   "cell_type": "code",
   "execution_count": 43,
   "id": "9f773fbd",
   "metadata": {},
   "outputs": [
    {
     "name": "stdout",
     "output_type": "stream",
     "text": [
      "('money',)\n"
     ]
    }
   ],
   "source": [
    "# 현재 지금 어떤 것과 연결되어있는지 확인하기\n",
    "res = cursor.execute(\"SELECT name FROM sqlite_master\")\n",
    "print(res.fetchone())"
   ]
  },
  {
   "cell_type": "code",
   "execution_count": 75,
   "id": "ef9fc478",
   "metadata": {},
   "outputs": [],
   "source": [
    "from datetime import date\n",
    "today = date.today()\n",
    "\n",
    "cursor.execute(f\"\"\"\n",
    "    INSERT INTO 'money' VALUES\n",
    "        ('{today}', 'out',10003,'축구')\n",
    "\"\"\")\n",
    "connect.commit()"
   ]
  },
  {
   "cell_type": "code",
   "execution_count": 76,
   "id": "f2cebcb5",
   "metadata": {},
   "outputs": [
    {
     "name": "stdout",
     "output_type": "stream",
     "text": [
      "('2025-05-12', 'in', '1000', None)\n",
      "('2025-05-12', 'in', '1000', None)\n",
      "('2025-05-12', 'in', '10001', None)\n",
      "('2025-05-12', 'out', '10001', None)\n",
      "('2025-05-12', 'out', '10002', None)\n",
      "('2025-05-12', 'out', '10003', None)\n",
      "('2008', 'out', '10003', '축구')\n",
      "('2025-05-12', 'out', '10003', '축구')\n"
     ]
    }
   ],
   "source": [
    "res = cursor.execute(\"SELECT * FROM money;\")\n",
    "rows = res.fetchall()\n",
    "\n",
    "for row in rows:\n",
    "    print(row)"
   ]
  },
  {
   "cell_type": "code",
   "execution_count": 68,
   "id": "b891193f",
   "metadata": {},
   "outputs": [],
   "source": [
    "cursor.execute(\"SELECT * FROM money WHERE in_out = 'in';\")\n",
    "in_list = cursor.fetchall()\n",
    "cursor.execute(\"SELECT * FROM money WHERE in_out = 'out';\")\n",
    "out_list = cursor.fetchall()"
   ]
  },
  {
   "cell_type": "code",
   "execution_count": 69,
   "id": "0d9e9f1a",
   "metadata": {},
   "outputs": [
    {
     "name": "stdout",
     "output_type": "stream",
     "text": [
      "[('2025-05-12', 'in', '1000'), ('2025-05-12', 'in', '1000'), ('2025-05-12', 'in', '10001')]\n"
     ]
    }
   ],
   "source": [
    "print(in_list)"
   ]
  },
  {
   "cell_type": "code",
   "execution_count": 70,
   "id": "2f478c0b",
   "metadata": {},
   "outputs": [
    {
     "name": "stdout",
     "output_type": "stream",
     "text": [
      " * Serving Flask app '__main__'\n",
      " * Debug mode: on\n"
     ]
    },
    {
     "name": "stderr",
     "output_type": "stream",
     "text": [
      "WARNING: This is a development server. Do not use it in a production deployment. Use a production WSGI server instead.\n",
      " * Running on http://127.0.0.1:5000\n",
      "Press CTRL+C to quit\n",
      "127.0.0.1 - - [12/May/2025 14:15:20] \"GET / HTTP/1.1\" 404 -\n",
      "127.0.0.1 - - [12/May/2025 14:15:27] \"GET /money HTTP/1.1\" 200 -\n",
      "127.0.0.1 - - [12/May/2025 14:16:51] \"GET /money HTTP/1.1\" 200 -\n",
      "127.0.0.1 - - [12/May/2025 14:19:17] \"GET /money HTTP/1.1\" 200 -\n",
      "127.0.0.1 - - [12/May/2025 14:19:47] \"GET /money HTTP/1.1\" 200 -\n",
      "127.0.0.1 - - [12/May/2025 14:20:08] \"GET /money HTTP/1.1\" 200 -\n"
     ]
    }
   ],
   "source": [
    "from flask import Flask, render_template\n",
    "\n",
    "app = Flask(__name__)\n",
    "cursor.execute(\"SELECT * FROM money WHERE in_out = 'in';\")\n",
    "in_list_en = cursor.fetchall()\n",
    "cursor.execute(\"SELECT * FROM money WHERE in_out = 'out';\")\n",
    "out_list_en = cursor.fetchall()\n",
    "@app.route('/money')\n",
    "def money_page():\n",
    "    in_list = in_list_en\n",
    "    out_list = out_list_en\n",
    "\n",
    "    return render_template('money_page.html', in_list=in_list, out_list=out_list)\n",
    "\n",
    "if __name__ == '__main__':\n",
    "    app.run(debug=True, use_reloader=False)"
   ]
  },
  {
   "cell_type": "code",
   "execution_count": 3,
   "id": "310c2b89",
   "metadata": {},
   "outputs": [
    {
     "name": "stdout",
     "output_type": "stream",
     "text": [
      " * Serving Flask app '__main__'\n",
      " * Debug mode: on\n"
     ]
    },
    {
     "name": "stderr",
     "output_type": "stream",
     "text": [
      "WARNING: This is a development server. Do not use it in a production deployment. Use a production WSGI server instead.\n",
      " * Running on http://127.0.0.1:5000\n",
      "Press CTRL+C to quit\n",
      "127.0.0.1 - - [13/May/2025 11:20:38] \"GET /add_in HTTP/1.1\" 405 -\n"
     ]
    }
   ],
   "source": [
    "from flask import Flask, render_template, request, redirect, url_for\n",
    "from datetime import date\n",
    "import sqlite3 \n",
    "\n",
    "app = Flask(__name__)\n",
    "\n",
    "DATABASE = \"D:/AHN/Codng/python/2025_kimmich.kr_web/coding/DB/money.db\"\n",
    "\n",
    "def get_db_connection():\n",
    "    \"\"\"요청마다 새로운 SQLite 연결 생성\"\"\"\n",
    "    connection = sqlite3.connect(DATABASE)\n",
    "    connection.row_factory = sqlite3.Row  # 행을 딕셔너리처럼 사용 가능\n",
    "    return connection\n",
    "\n",
    "@app.route('/money')\n",
    "def money_page():\n",
    "    today = date.today()  # 오늘 날짜 가져오기\n",
    "    connection = get_db_connection()\n",
    "    cursor = connection.cursor()\n",
    "    cursor.execute(\"SELECT rowid, * FROM money WHERE in_out = 'in' AND date = ?\", (today,))\n",
    "    in_list = cursor.fetchall()\n",
    "    cursor.execute(\"SELECT rowid, * FROM money WHERE in_out = 'out' AND date = ?\", (today,))\n",
    "    out_list = cursor.fetchall()\n",
    "    connection.close()\n",
    "\n",
    "    return render_template('money_page.html', in_list=in_list, out_list=out_list)\n",
    "\n",
    "@app.route('/add_in', methods=['POST'])\n",
    "def add_in():\n",
    "    fname = request.form['fname']\n",
    "    lname = request.form['lname']\n",
    "    today = date.today()\n",
    "\n",
    "    connection = get_db_connection()\n",
    "    cursor = connection.cursor()\n",
    "    cursor.execute(f\"\"\"\n",
    "        INSERT INTO money (date, in_out, price, content)\n",
    "        VALUES ('{today}', 'in', {lname}, '{fname}')\n",
    "    \"\"\")\n",
    "    connection.commit()\n",
    "    connection.close()\n",
    "    return redirect(url_for('money_page'))\n",
    "\n",
    "@app.route('/add_out', methods=['POST'])\n",
    "def add_out():\n",
    "    fname = request.form['fname']\n",
    "    lname = request.form['lname']\n",
    "    today = date.today()\n",
    "\n",
    "    connection = get_db_connection()\n",
    "    cursor = connection.cursor()\n",
    "    cursor.execute(f\"\"\"\n",
    "        INSERT INTO money (date, in_out, price, content)\n",
    "        VALUES ('{today}', 'out', {lname}, '{fname}')\n",
    "    \"\"\")\n",
    "    connection.commit()\n",
    "    connection.close()\n",
    "    return redirect(url_for('money_page'))\n",
    "\n",
    "@app.route('/delete/<int:rowid>', methods=['POST'])\n",
    "def delete(rowid):\n",
    "    connection = get_db_connection()\n",
    "    cursor = connection.cursor()\n",
    "    cursor.execute(\"DELETE FROM money WHERE rowid = ?\", (rowid,))\n",
    "    connection.commit()\n",
    "    connection.close()\n",
    "    return redirect(url_for('money_page'))\n",
    "\n",
    "if __name__ == '__main__':\n",
    "    app.run(debug=True, use_reloader=False)"
   ]
  }
 ],
 "metadata": {
  "kernelspec": {
   "display_name": "kimmich.kr",
   "language": "python",
   "name": "python3"
  },
  "language_info": {
   "codemirror_mode": {
    "name": "ipython",
    "version": 3
   },
   "file_extension": ".py",
   "mimetype": "text/x-python",
   "name": "python",
   "nbconvert_exporter": "python",
   "pygments_lexer": "ipython3",
   "version": "3.12.9"
  }
 },
 "nbformat": 4,
 "nbformat_minor": 5
}
