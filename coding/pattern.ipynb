{
 "cells": [
  {
   "cell_type": "markdown",
   "id": "7ca87350",
   "metadata": {},
   "source": [
    "#### 1페이지: 기본 컨디션 & 감사\n",
    "1. 수면 패턴 기록  \n",
    "2. 감사한 일  \n",
    "3. 오늘의 기분 (아주 좋음 / 좋음 / 보통 / 나쁨 / 아주 나쁨) "
   ]
  },
  {
   "cell_type": "code",
   "execution_count": 1,
   "id": "029d9a43",
   "metadata": {},
   "outputs": [],
   "source": [
    "import sqlite3 \n",
    "connect = sqlite3.connect(\"kimmich_kr.db\")\n",
    "cursor = connect.cursor()"
   ]
  },
  {
   "cell_type": "code",
   "execution_count": 5,
   "metadata": {},
   "outputs": [
    {
     "name": "stdout",
     "output_type": "stream",
     "text": [
      "('money',)\n",
      "('page_1',)\n"
     ]
    }
   ],
   "source": [
    "# 현재 지금 어떤 것과 연결되어있는지 확인하기\n",
    "res = cursor.execute(\"SELECT name FROM sqlite_master\")\n",
    "rows = res.fetchall()\n",
    "\n",
    "for row in rows:\n",
    "    print(row)"
   ]
  },
  {
   "cell_type": "code",
   "execution_count": 8,
   "id": "0bac85ba",
   "metadata": {},
   "outputs": [],
   "source": [
    "from datetime import date\n",
    "today = date.today()\n",
    "\n",
    "cursor.execute(f\"\"\"\n",
    "    INSERT INTO 'page_1' VALUES\n",
    "        ('{today}','18:00', '09:00','오늘도 축구를 하는게 가능하니')\n",
    "\"\"\")\n",
    "connect.commit()"
   ]
  },
  {
   "cell_type": "code",
   "execution_count": 9,
   "id": "ed411c3c",
   "metadata": {},
   "outputs": [
    {
     "name": "stdout",
     "output_type": "stream",
     "text": [
      "('2025-05-16', '18:00', '08:00', '오늘도 축구를 하는게 가능하니')\n",
      "('2025-05-16', '18:00', '09:00', '오늘도 축구를 하는게 가능하니')\n"
     ]
    }
   ],
   "source": [
    "res = cursor.execute(\"SELECT * FROM page_1;\")\n",
    "rows = res.fetchall()\n",
    "\n",
    "for row in rows:\n",
    "    print(row)"
   ]
  },
  {
   "cell_type": "code",
   "execution_count": 11,
   "metadata": {},
   "outputs": [
    {
     "name": "stdout",
     "output_type": "stream",
     "text": [
      " * Serving Flask app '__main__'\n",
      " * Debug mode: on\n"
     ]
    },
    {
     "name": "stderr",
     "output_type": "stream",
     "text": [
      "WARNING: This is a development server. Do not use it in a production deployment. Use a production WSGI server instead.\n",
      " * Running on http://127.0.0.1:5000\n",
      "Press CTRL+C to quit\n",
      "127.0.0.1 - - [16/May/2025 13:00:35] \"GET / HTTP/1.1\" 404 -\n",
      "127.0.0.1 - - [16/May/2025 13:00:35] \"GET /favicon.ico HTTP/1.1\" 404 -\n",
      "127.0.0.1 - - [16/May/2025 13:00:40] \"GET /money HTTP/1.1\" 404 -\n",
      "127.0.0.1 - - [16/May/2025 13:00:51] \"GET /pattern_1 HTTP/1.1\" 200 -\n",
      "127.0.0.1 - - [16/May/2025 13:01:52] \"GET /pattern_1 HTTP/1.1\" 200 -\n"
     ]
    }
   ],
   "source": [
    "from flask import Flask, render_template, request, redirect, url_for\n",
    "from datetime import date\n",
    "import sqlite3 \n",
    "\n",
    "app = Flask(__name__)\n",
    "\n",
    "DATABASE = \"kimmich_kr.db\"\n",
    "\n",
    "def get_db_connection():\n",
    "    \"\"\"요청마다 새로운 SQLite 연결 생성\"\"\"\n",
    "    connection = sqlite3.connect(DATABASE)\n",
    "    connection.row_factory = sqlite3.Row  \n",
    "    return connection\n",
    "\n",
    "@app.route('/pattern_1', methods=['GET', 'POST'])\n",
    "def page_1():\n",
    "    mood = [\n",
    "        '행복', '기쁨', '감사', '무기력', '만족', '피곤', '지루함', '불안', '슬픔',\n",
    "        '우울', '화남', '짜증', '후회', '두려움', '외로움', '창피함', '자신감', '무감정'\n",
    "    ]\n",
    "    if request.method == 'POST':\n",
    "        today = date.today()\n",
    "        sleep_time = request.form['sleep_time']\n",
    "        wake_time = request.form['wake_time']\n",
    "        thanks = request.form['thanks']\n",
    "        mood_selected = request.form['mood']\n",
    "\n",
    "        connection = get_db_connection()\n",
    "        cursor = connection.cursor()\n",
    "        cursor.execute(\n",
    "            \"INSERT INTO page_1 (date, sleep_time, wake_time, thanks, mood) VALUES (?, ?, ?, ?, ?)\",\n",
    "            (today, sleep_time, wake_time, thanks, mood_selected)\n",
    "        )\n",
    "        connection.commit()\n",
    "        connection.close()\n",
    "        return redirect(url_for('page_1'))\n",
    "\n",
    "    return render_template('my_pattern_1.html', mood=mood)\n",
    "\n",
    "if __name__ == '__main__':\n",
    "    app.run(debug=True, use_reloader=False)"
   ]
  },
  {
   "cell_type": "code",
   "execution_count": null,
   "metadata": {},
   "outputs": [],
   "source": []
  },
  {
   "cell_type": "code",
   "execution_count": null,
   "metadata": {},
   "outputs": [],
   "source": []
  },
  {
   "cell_type": "code",
   "execution_count": null,
   "metadata": {},
   "outputs": [],
   "source": []
  }
 ],
 "metadata": {
  "kernelspec": {
   "display_name": "kimmich.kr",
   "language": "python",
   "name": "python3"
  },
  "language_info": {
   "codemirror_mode": {
    "name": "ipython",
    "version": 3
   },
   "file_extension": ".py",
   "mimetype": "text/x-python",
   "name": "python",
   "nbconvert_exporter": "python",
   "pygments_lexer": "ipython3",
   "version": "3.12.9"
  }
 },
 "nbformat": 4,
 "nbformat_minor": 5
}
